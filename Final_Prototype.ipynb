{
  "nbformat": 4,
  "nbformat_minor": 0,
  "metadata": {
    "colab": {
      "provenance": [],
      "machine_shape": "hm",
      "gpuType": "L4"
    },
    "kernelspec": {
      "name": "python3",
      "display_name": "Python 3"
    },
    "language_info": {
      "name": "python"
    },
    "accelerator": "GPU"
  },
  "cells": [
    {
      "cell_type": "markdown",
      "source": [
        "# Importing Required Libraries\n",
        "\n",
        "We will use ImageDataGenerator for augmentation.\n",
        "\n",
        "ResNet50 will be the model with some changes.\n",
        "\n",
        "\n"
      ],
      "metadata": {
        "id": "d-3NrPBH3sfw"
      }
    },
    {
      "cell_type": "code",
      "execution_count": 11,
      "metadata": {
        "colab": {
          "base_uri": "https://localhost:8080/"
        },
        "id": "-qpVmS5b3dja",
        "outputId": "398dabc7-e844-495c-9631-c08fff284d89"
      },
      "outputs": [
        {
          "output_type": "stream",
          "name": "stdout",
          "text": [
            "Drive already mounted at /content/drive; to attempt to forcibly remount, call drive.mount(\"/content/drive\", force_remount=True).\n"
          ]
        }
      ],
      "source": [
        "import tensorflow as tf\n",
        "from tensorflow.keras.preprocessing.image import ImageDataGenerator\n",
        "from tensorflow.keras.applications import ResNet50\n",
        "from tensorflow.keras.layers import Dense, Flatten, Dropout\n",
        "from tensorflow.keras.models import Model\n",
        "from tensorflow.keras.optimizers import Adam, RMSprop, SGD, Nadam, Adagrad, Adadelta\n",
        "from tensorflow.keras.losses import BinaryCrossentropy, Hinge\n",
        "from tensorflow.keras.callbacks import EarlyStopping, ReduceLROnPlateau\n",
        "from tensorflow.keras.regularizers import l2\n",
        "from google.colab import drive\n",
        "\n",
        "drive.mount(\"/content/drive\")\n"
      ]
    },
    {
      "cell_type": "markdown",
      "source": [
        "# Loading and normalizing the datasets\n"
      ],
      "metadata": {
        "id": "q4oEefmG4mVi"
      }
    },
    {
      "cell_type": "code",
      "source": [
        "train_dir = r\"/content/drive/MyDrive/Dataset/training_data\"\n",
        "test_dir = r\"/content/drive/MyDrive/Dataset/testing_data\"\n",
        "\n",
        "train_datagen = ImageDataGenerator(\n",
        "    rescale=1./255,\n",
        "    rotation_range=20,\n",
        "    width_shift_range=0.2,\n",
        "    height_shift_range=0.2,\n",
        "    shear_range=0.2,\n",
        "    zoom_range=0.2,\n",
        "    horizontal_flip=True,\n",
        "    fill_mode='nearest',\n",
        "    validation_split=0.25\n",
        ")\n",
        "\n",
        "# Load the training data with the validation split\n",
        "train_generator = train_datagen.flow_from_directory(\n",
        "    train_dir,\n",
        "    target_size=(340, 340),\n",
        "    batch_size=64,\n",
        "    class_mode='binary',\n",
        "    subset='training'  # Use the training subset\n",
        ")\n",
        "\n",
        "# Load the validation data\n",
        "validation_generator = train_datagen.flow_from_directory(\n",
        "    train_dir,\n",
        "    target_size=(340, 340),\n",
        "    batch_size=64,\n",
        "    class_mode='binary',\n",
        "    subset='validation'  # Use the validation subset\n",
        ")\n",
        "\n",
        "# Loading the testing data\n",
        "test_datagen = ImageDataGenerator(\n",
        "    rescale=1./255,\n",
        "    rotation_range=20,\n",
        "    width_shift_range=0.2,\n",
        "    height_shift_range=0.2,\n",
        "    shear_range=0.2,\n",
        "    zoom_range=0.2,\n",
        "    horizontal_flip=True,\n",
        "    fill_mode='nearest',\n",
        "    )\n",
        "\n",
        "test_generator = test_datagen.flow_from_directory(\n",
        "    test_dir,\n",
        "    target_size=(340, 340),\n",
        "    batch_size=64,\n",
        "    class_mode='binary'\n",
        ")\n",
        "\n",
        "print(train_generator.class_indices)"
      ],
      "metadata": {
        "colab": {
          "base_uri": "https://localhost:8080/"
        },
        "id": "O1YAEbbf3hew",
        "outputId": "fc3ebf9e-9779-4275-de07-5e8f5f064ddb"
      },
      "execution_count": 12,
      "outputs": [
        {
          "output_type": "stream",
          "name": "stdout",
          "text": [
            "Found 7128 images belonging to 2 classes.\n",
            "Found 2375 images belonging to 2 classes.\n",
            "Found 1425 images belonging to 2 classes.\n",
            "{'correct': 0, 'incorrect': 1}\n"
          ]
        }
      ]
    },
    {
      "cell_type": "markdown",
      "source": [
        "# Building the model\n",
        "\n",
        "Utilizing ResNet50 and adding some layers within the model to enhance its performance"
      ],
      "metadata": {
        "id": "Bh52-i-W9y6P"
      }
    },
    {
      "cell_type": "code",
      "source": [
        "base_model = ResNet50(\n",
        "    weights='imagenet',\n",
        "    include_top=False,\n",
        "    input_shape=(340, 340, 3)\n",
        "    )\n",
        "\n",
        "# Unfreeze the last 10 layers of the base model for fine-tuning\n",
        "for layer in base_model.layers[-10:]:\n",
        "    layer.trainable = True\n",
        "\n",
        "# Add custom layers on top\n",
        "x = Flatten()(base_model.output)\n",
        "x = Dropout(0.2)(x)  # Reducing dropout rate\n",
        "x = Dense(512, activation='relu', kernel_regularizer=l2(0.005))(x)\n",
        "x = Dropout(0.2)(x)\n",
        "x = Dense(256, activation='relu', kernel_regularizer=l2(0.005))(x)\n",
        "x = Dropout(0.2)(x)\n",
        "x = Dense(128, activation='relu', kernel_regularizer=l2(0.005))(x)\n",
        "predictions = Dense(1, activation='sigmoid')(x)\n",
        "\n",
        "model = Model(inputs=base_model.input, outputs=predictions)\n",
        "\n",
        "model.compile(\n",
        "    optimizer=Nadam(learning_rate=0.001),\n",
        "    loss=BinaryCrossentropy(label_smoothing=0.1),\n",
        "    metrics=['accuracy', 'AUC']\n",
        ")"
      ],
      "metadata": {
        "id": "wi_zcc2Y-G22"
      },
      "execution_count": 13,
      "outputs": []
    },
    {
      "cell_type": "markdown",
      "source": [
        "# Training the model"
      ],
      "metadata": {
        "id": "VDTvHj2j-rKq"
      }
    },
    {
      "cell_type": "code",
      "source": [
        "early_stopping_loss = EarlyStopping(\n",
        "    monitor='val_loss',\n",
        "    patience=7,\n",
        "    restore_best_weights=False,\n",
        "    verbose=1\n",
        ")\n",
        "\n",
        "early_stopping_acc = EarlyStopping(\n",
        "    monitor='val_auc',\n",
        "    patience=7,\n",
        "    mode='max',\n",
        "    restore_best_weights=True,\n",
        "    verbose=1\n",
        ")\n",
        "\n",
        "lr_scheduler = ReduceLROnPlateau(\n",
        "    monitor='val_loss',\n",
        "    factor=0.5,\n",
        "    patience=2,\n",
        "    verbose=1,\n",
        "    min_lr=1e-6\n",
        ")\n",
        "\n",
        "class_weight = {0: 1.7, 1: 1.0}\n",
        "EPOCHS = 30\n",
        "STEPS_PER_EPOCH = train_generator.samples // train_generator.batch_size\n",
        "VALIDATION_STEPS = validation_generator.samples // validation_generator.batch_size\n",
        "\n",
        "history = model.fit(\n",
        "    train_generator,\n",
        "    steps_per_epoch=STEPS_PER_EPOCH,\n",
        "    validation_data=validation_generator,\n",
        "    validation_steps=VALIDATION_STEPS,\n",
        "    callbacks=[early_stopping_loss, early_stopping_acc, lr_scheduler],\n",
        "    class_weight=class_weight,\n",
        "    verbose=1,\n",
        "    epochs=EPOCHS\n",
        ")"
      ],
      "metadata": {
        "colab": {
          "base_uri": "https://localhost:8080/"
        },
        "id": "vcjh7NoA-xvl",
        "outputId": "f659dd11-d4b2-4d8a-db7b-5c4bca23ab74"
      },
      "execution_count": 16,
      "outputs": [
        {
          "output_type": "stream",
          "name": "stdout",
          "text": [
            "Epoch 1/30\n",
            "\u001b[1m111/111\u001b[0m \u001b[32m━━━━━━━━━━━━━━━━━━━━\u001b[0m\u001b[37m\u001b[0m \u001b[1m300s\u001b[0m 3s/step - AUC: 0.9964 - accuracy: 0.9795 - loss: 2.8015 - val_AUC: 0.6994 - val_accuracy: 0.5992 - val_loss: 2.1922 - learning_rate: 0.0010\n",
            "Epoch 2/30\n"
          ]
        },
        {
          "output_type": "stream",
          "name": "stderr",
          "text": [
            "/usr/local/lib/python3.10/dist-packages/keras/src/callbacks/early_stopping.py:155: UserWarning: Early stopping conditioned on metric `val_auc` which is not available. Available metrics are: AUC,accuracy,loss,val_AUC,val_accuracy,val_loss\n",
            "  current = self.get_monitor_value(logs)\n"
          ]
        },
        {
          "output_type": "stream",
          "name": "stdout",
          "text": [
            "\r\u001b[1m  1/111\u001b[0m \u001b[37m━━━━━━━━━━━━━━━━━━━━\u001b[0m \u001b[1m1:17\u001b[0m 704ms/step - AUC: 1.0000 - accuracy: 0.9844 - loss: 1.8103"
          ]
        },
        {
          "output_type": "stream",
          "name": "stderr",
          "text": [
            "/usr/lib/python3.10/contextlib.py:153: UserWarning: Your input ran out of data; interrupting training. Make sure that your dataset or generator can generate at least `steps_per_epoch * epochs` batches. You may need to use the `.repeat()` function when building your dataset.\n",
            "  self.gen.throw(typ, value, traceback)\n"
          ]
        },
        {
          "output_type": "stream",
          "name": "stdout",
          "text": [
            "\b\b\b\b\b\b\b\b\b\b\b\b\b\b\b\b\b\b\b\b\b\b\b\b\b\b\b\b\b\b\b\b\b\b\b\b\b\b\b\b\b\b\b\b\b\b\b\b\b\b\b\b\b\b\b\b\b\b\b\b\b\b\b\b\b\b\b\b\b\b\b\b\b\b\b\b\b\b\b\b\b\b\b\b\b\b\b\b\b\b\b\b\r\u001b[1m111/111\u001b[0m \u001b[32m━━━━━━━━━━━━━━━━━━━━\u001b[0m\u001b[37m\u001b[0m \u001b[1m3s\u001b[0m 21ms/step - AUC: 1.0000 - accuracy: 0.9844 - loss: 1.8103 - val_AUC: 0.9583 - val_accuracy: 0.4286 - val_loss: 2.2285 - learning_rate: 0.0010\n",
            "Epoch 3/30\n",
            "\u001b[1m111/111\u001b[0m \u001b[32m━━━━━━━━━━━━━━━━━━━━\u001b[0m\u001b[37m\u001b[0m \u001b[1m291s\u001b[0m 2s/step - AUC: 0.9991 - accuracy: 0.9889 - loss: 1.6655 - val_AUC: 0.6830 - val_accuracy: 0.6242 - val_loss: 1.8131 - learning_rate: 0.0010\n",
            "Epoch 4/30\n",
            "\u001b[1m111/111\u001b[0m \u001b[32m━━━━━━━━━━━━━━━━━━━━\u001b[0m\u001b[37m\u001b[0m \u001b[1m1s\u001b[0m 521us/step - AUC: 1.0000 - accuracy: 0.9844 - loss: 1.4208 - val_AUC: 0.4000 - val_accuracy: 0.7143 - val_loss: 1.8169 - learning_rate: 0.0010\n",
            "Epoch 5/30\n",
            "\u001b[1m111/111\u001b[0m \u001b[32m━━━━━━━━━━━━━━━━━━━━\u001b[0m\u001b[37m\u001b[0m \u001b[1m292s\u001b[0m 3s/step - AUC: 0.9983 - accuracy: 0.9804 - loss: 1.3958 - val_AUC: 0.4350 - val_accuracy: 0.4008 - val_loss: 1.7559 - learning_rate: 0.0010\n",
            "Epoch 6/30\n",
            "\u001b[1m111/111\u001b[0m \u001b[32m━━━━━━━━━━━━━━━━━━━━\u001b[0m\u001b[37m\u001b[0m \u001b[1m1s\u001b[0m 517us/step - AUC: 1.0000 - accuracy: 1.0000 - loss: 1.1937 - val_AUC: 0.5417 - val_accuracy: 0.5714 - val_loss: 1.6433 - learning_rate: 0.0010\n",
            "Epoch 7/30\n",
            "\u001b[1m111/111\u001b[0m \u001b[32m━━━━━━━━━━━━━━━━━━━━\u001b[0m\u001b[37m\u001b[0m \u001b[1m292s\u001b[0m 3s/step - AUC: 0.9984 - accuracy: 0.9880 - loss: 1.1792 - val_AUC: 0.6391 - val_accuracy: 0.5042 - val_loss: 1.5238 - learning_rate: 0.0010\n",
            "Epoch 8/30\n",
            "\u001b[1m111/111\u001b[0m \u001b[32m━━━━━━━━━━━━━━━━━━━━\u001b[0m\u001b[37m\u001b[0m \u001b[1m1s\u001b[0m 513us/step - AUC: 1.0000 - accuracy: 0.9844 - loss: 1.1157 - val_AUC: 0.7000 - val_accuracy: 0.5714 - val_loss: 1.5106 - learning_rate: 0.0010\n",
            "Epoch 9/30\n",
            "\u001b[1m111/111\u001b[0m \u001b[32m━━━━━━━━━━━━━━━━━━━━\u001b[0m\u001b[37m\u001b[0m \u001b[1m291s\u001b[0m 3s/step - AUC: 0.9978 - accuracy: 0.9858 - loss: 1.1108 - val_AUC: 0.3515 - val_accuracy: 0.4003 - val_loss: 1.8086 - learning_rate: 0.0010\n",
            "Epoch 10/30\n",
            "\u001b[1m  1/111\u001b[0m \u001b[37m━━━━━━━━━━━━━━━━━━━━\u001b[0m \u001b[1m1:17\u001b[0m 704ms/step - AUC: 0.9989 - accuracy: 0.9844 - loss: 1.0392\n",
            "Epoch 10: ReduceLROnPlateau reducing learning rate to 0.0005000000237487257.\n",
            "\u001b[1m111/111\u001b[0m \u001b[32m━━━━━━━━━━━━━━━━━━━━\u001b[0m\u001b[37m\u001b[0m \u001b[1m1s\u001b[0m 557us/step - AUC: 0.9989 - accuracy: 0.9844 - loss: 1.0392 - val_AUC: 0.4000 - val_accuracy: 0.2857 - val_loss: 1.9369 - learning_rate: 0.0010\n",
            "Epoch 11/30\n",
            "\u001b[1m111/111\u001b[0m \u001b[32m━━━━━━━━━━━━━━━━━━━━\u001b[0m\u001b[37m\u001b[0m \u001b[1m292s\u001b[0m 3s/step - AUC: 0.9996 - accuracy: 0.9899 - loss: 0.9939 - val_AUC: 0.3906 - val_accuracy: 0.3974 - val_loss: 1.5759 - learning_rate: 5.0000e-04\n",
            "Epoch 12/30\n",
            "\u001b[1m  1/111\u001b[0m \u001b[37m━━━━━━━━━━━━━━━━━━━━\u001b[0m \u001b[1m1:17\u001b[0m 701ms/step - AUC: 1.0000 - accuracy: 1.0000 - loss: 0.9103\n",
            "Epoch 12: ReduceLROnPlateau reducing learning rate to 0.0002500000118743628.\n",
            "\u001b[1m111/111\u001b[0m \u001b[32m━━━━━━━━━━━━━━━━━━━━\u001b[0m\u001b[37m\u001b[0m \u001b[1m1s\u001b[0m 536us/step - AUC: 1.0000 - accuracy: 1.0000 - loss: 0.9103 - val_AUC: 0.0000e+00 - val_accuracy: 0.2857 - val_loss: 1.8175 - learning_rate: 5.0000e-04\n",
            "Epoch 13/30\n",
            "\u001b[1m111/111\u001b[0m \u001b[32m━━━━━━━━━━━━━━━━━━━━\u001b[0m\u001b[37m\u001b[0m \u001b[1m292s\u001b[0m 3s/step - AUC: 0.9999 - accuracy: 0.9966 - loss: 0.8880 - val_AUC: 0.6026 - val_accuracy: 0.4590 - val_loss: 1.5392 - learning_rate: 2.5000e-04\n",
            "Epoch 14/30\n",
            "\u001b[1m111/111\u001b[0m \u001b[32m━━━━━━━━━━━━━━━━━━━━\u001b[0m\u001b[37m\u001b[0m \u001b[1m1s\u001b[0m 536us/step - AUC: 1.0000 - accuracy: 1.0000 - loss: 0.8699 - val_AUC: 0.5833 - val_accuracy: 0.5714 - val_loss: 1.3528 - learning_rate: 2.5000e-04\n",
            "Epoch 15/30\n",
            "\u001b[1m111/111\u001b[0m \u001b[32m━━━━━━━━━━━━━━━━━━━━\u001b[0m\u001b[37m\u001b[0m \u001b[1m297s\u001b[0m 3s/step - AUC: 0.9997 - accuracy: 0.9956 - loss: 0.8655 - val_AUC: 0.8345 - val_accuracy: 0.5490 - val_loss: 1.5513 - learning_rate: 2.5000e-04\n",
            "Epoch 16/30\n",
            "\u001b[1m  1/111\u001b[0m \u001b[37m━━━━━━━━━━━━━━━━━━━━\u001b[0m \u001b[1m1:16\u001b[0m 694ms/step - AUC: 1.0000 - accuracy: 1.0000 - loss: 0.8419\n",
            "Epoch 16: ReduceLROnPlateau reducing learning rate to 0.0001250000059371814.\n",
            "\u001b[1m111/111\u001b[0m \u001b[32m━━━━━━━━━━━━━━━━━━━━\u001b[0m\u001b[37m\u001b[0m \u001b[1m1s\u001b[0m 545us/step - AUC: 1.0000 - accuracy: 1.0000 - loss: 0.8419 - val_AUC: 0.8333 - val_accuracy: 0.5714 - val_loss: 1.5733 - learning_rate: 2.5000e-04\n",
            "Epoch 17/30\n",
            "\u001b[1m111/111\u001b[0m \u001b[32m━━━━━━━━━━━━━━━━━━━━\u001b[0m\u001b[37m\u001b[0m \u001b[1m293s\u001b[0m 3s/step - AUC: 1.0000 - accuracy: 0.9977 - loss: 0.8406 - val_AUC: 0.9968 - val_accuracy: 0.9679 - val_loss: 0.8238 - learning_rate: 1.2500e-04\n",
            "Epoch 18/30\n",
            "\u001b[1m111/111\u001b[0m \u001b[32m━━━━━━━━━━━━━━━━━━━━\u001b[0m\u001b[37m\u001b[0m \u001b[1m1s\u001b[0m 532us/step - AUC: 1.0000 - accuracy: 1.0000 - loss: 0.8269 - val_AUC: 1.0000 - val_accuracy: 1.0000 - val_loss: 0.8095 - learning_rate: 1.2500e-04\n",
            "Epoch 19/30\n",
            "\u001b[1m111/111\u001b[0m \u001b[32m━━━━━━━━━━━━━━━━━━━━\u001b[0m\u001b[37m\u001b[0m \u001b[1m291s\u001b[0m 3s/step - AUC: 1.0000 - accuracy: 0.9983 - loss: 0.8249 - val_AUC: 1.0000 - val_accuracy: 0.9987 - val_loss: 0.7594 - learning_rate: 1.2500e-04\n",
            "Epoch 20/30\n",
            "\u001b[1m111/111\u001b[0m \u001b[32m━━━━━━━━━━━━━━━━━━━━\u001b[0m\u001b[37m\u001b[0m \u001b[1m1s\u001b[0m 547us/step - AUC: 1.0000 - accuracy: 1.0000 - loss: 0.8141 - val_AUC: 1.0000 - val_accuracy: 1.0000 - val_loss: 0.7584 - learning_rate: 1.2500e-04\n",
            "Epoch 21/30\n",
            "\u001b[1m111/111\u001b[0m \u001b[32m━━━━━━━━━━━━━━━━━━━━\u001b[0m\u001b[37m\u001b[0m \u001b[1m291s\u001b[0m 3s/step - AUC: 1.0000 - accuracy: 0.9981 - loss: 0.8131 - val_AUC: 1.0000 - val_accuracy: 0.9979 - val_loss: 0.7486 - learning_rate: 1.2500e-04\n",
            "Epoch 22/30\n",
            "\u001b[1m111/111\u001b[0m \u001b[32m━━━━━━━━━━━━━━━━━━━━\u001b[0m\u001b[37m\u001b[0m \u001b[1m1s\u001b[0m 550us/step - AUC: 1.0000 - accuracy: 1.0000 - loss: 0.8153 - val_AUC: 0.0000e+00 - val_accuracy: 1.0000 - val_loss: 0.7450 - learning_rate: 1.2500e-04\n",
            "Epoch 23/30\n",
            "\u001b[1m111/111\u001b[0m \u001b[32m━━━━━━━━━━━━━━━━━━━━\u001b[0m\u001b[37m\u001b[0m \u001b[1m291s\u001b[0m 3s/step - AUC: 1.0000 - accuracy: 0.9970 - loss: 0.8027 - val_AUC: 1.0000 - val_accuracy: 0.9979 - val_loss: 0.7359 - learning_rate: 1.2500e-04\n",
            "Epoch 24/30\n",
            "\u001b[1m111/111\u001b[0m \u001b[32m━━━━━━━━━━━━━━━━━━━━\u001b[0m\u001b[37m\u001b[0m \u001b[1m1s\u001b[0m 531us/step - AUC: 1.0000 - accuracy: 1.0000 - loss: 0.7870 - val_AUC: 1.0000 - val_accuracy: 0.8571 - val_loss: 0.8341 - learning_rate: 1.2500e-04\n",
            "Epoch 25/30\n",
            "\u001b[1m111/111\u001b[0m \u001b[32m━━━━━━━━━━━━━━━━━━━━\u001b[0m\u001b[37m\u001b[0m \u001b[1m291s\u001b[0m 3s/step - AUC: 1.0000 - accuracy: 0.9992 - loss: 0.7930 - val_AUC: 1.0000 - val_accuracy: 0.9987 - val_loss: 0.7239 - learning_rate: 1.2500e-04\n",
            "Epoch 26/30\n",
            "\u001b[1m111/111\u001b[0m \u001b[32m━━━━━━━━━━━━━━━━━━━━\u001b[0m\u001b[37m\u001b[0m \u001b[1m1s\u001b[0m 535us/step - AUC: 1.0000 - accuracy: 1.0000 - loss: 0.7827 - val_AUC: 1.0000 - val_accuracy: 1.0000 - val_loss: 0.7214 - learning_rate: 1.2500e-04\n",
            "Epoch 27/30\n",
            "\u001b[1m111/111\u001b[0m \u001b[32m━━━━━━━━━━━━━━━━━━━━\u001b[0m\u001b[37m\u001b[0m \u001b[1m292s\u001b[0m 3s/step - AUC: 0.9998 - accuracy: 0.9991 - loss: 0.7791 - val_AUC: 1.0000 - val_accuracy: 0.9979 - val_loss: 0.7127 - learning_rate: 1.2500e-04\n",
            "Epoch 28/30\n",
            "\u001b[1m111/111\u001b[0m \u001b[32m━━━━━━━━━━━━━━━━━━━━\u001b[0m\u001b[37m\u001b[0m \u001b[1m1s\u001b[0m 524us/step - AUC: 1.0000 - accuracy: 1.0000 - loss: 0.7690 - val_AUC: 1.0000 - val_accuracy: 1.0000 - val_loss: 0.7094 - learning_rate: 1.2500e-04\n",
            "Epoch 29/30\n",
            "\u001b[1m111/111\u001b[0m \u001b[32m━━━━━━━━━━━━━━━━━━━━\u001b[0m\u001b[37m\u001b[0m \u001b[1m297s\u001b[0m 3s/step - AUC: 1.0000 - accuracy: 0.9990 - loss: 0.7657 - val_AUC: 1.0000 - val_accuracy: 0.9992 - val_loss: 0.7018 - learning_rate: 1.2500e-04\n",
            "Epoch 30/30\n",
            "\u001b[1m111/111\u001b[0m \u001b[32m━━━━━━━━━━━━━━━━━━━━\u001b[0m\u001b[37m\u001b[0m \u001b[1m1s\u001b[0m 521us/step - AUC: 1.0000 - accuracy: 0.9844 - loss: 0.7638 - val_AUC: 1.0000 - val_accuracy: 1.0000 - val_loss: 0.6990 - learning_rate: 1.2500e-04\n"
          ]
        }
      ]
    },
    {
      "cell_type": "markdown",
      "source": [
        "# Evaluate the model"
      ],
      "metadata": {
        "id": "i07LnDky_Gda"
      }
    },
    {
      "cell_type": "code",
      "source": [
        "results = model.evaluate(test_generator)\n",
        "print(f'Test loss: {results[0]}')\n",
        "print(f'Test accuracy: {results[1]}')\n",
        "print(f'Test AUC: {results[2]}')"
      ],
      "metadata": {
        "colab": {
          "base_uri": "https://localhost:8080/"
        },
        "id": "tyN9UD8Q_ODU",
        "outputId": "40687320-3984-4526-aa67-42f1129a65e9"
      },
      "execution_count": 17,
      "outputs": [
        {
          "output_type": "stream",
          "name": "stderr",
          "text": [
            "/usr/local/lib/python3.10/dist-packages/keras/src/trainers/data_adapters/py_dataset_adapter.py:121: UserWarning: Your `PyDataset` class should call `super().__init__(**kwargs)` in its constructor. `**kwargs` can include `workers`, `use_multiprocessing`, `max_queue_size`. Do not pass these arguments to `fit()`, as they will be ignored.\n",
            "  self._warn_if_super_not_called()\n"
          ]
        },
        {
          "output_type": "stream",
          "name": "stdout",
          "text": [
            "\u001b[1m23/23\u001b[0m \u001b[32m━━━━━━━━━━━━━━━━━━━━\u001b[0m\u001b[37m\u001b[0m \u001b[1m49s\u001b[0m 2s/step - AUC: 0.9487 - accuracy: 0.9427 - loss: 0.8408\n",
            "Test loss: 0.8594880104064941\n",
            "Test accuracy: 0.934035062789917\n",
            "Test AUC: 0.9408072829246521\n"
          ]
        }
      ]
    },
    {
      "cell_type": "markdown",
      "source": [
        "# Save the model and its weights\n"
      ],
      "metadata": {
        "id": "qklM3NkzFOyi"
      }
    },
    {
      "cell_type": "code",
      "source": [
        "# Save the model in Google Drive\n",
        "model.save('/content/drive/MyDrive/project_prototype/model_prototype.h5')\n",
        "\n",
        "# Save only the model weights\n",
        "model.save_weights('/content/drive/MyDrive/project_prototype/model_weights.weights.h5')"
      ],
      "metadata": {
        "id": "dc_CbwW4FZ0a",
        "colab": {
          "base_uri": "https://localhost:8080/"
        },
        "outputId": "628b7cc8-e4a8-4a3d-ea3f-622c0324ea9f"
      },
      "execution_count": 18,
      "outputs": [
        {
          "output_type": "stream",
          "name": "stderr",
          "text": [
            "WARNING:absl:You are saving your model as an HDF5 file via `model.save()` or `keras.saving.save_model(model)`. This file format is considered legacy. We recommend using instead the native Keras format, e.g. `model.save('my_model.keras')` or `keras.saving.save_model(model, 'my_model.keras')`. \n"
          ]
        }
      ]
    }
  ]
}